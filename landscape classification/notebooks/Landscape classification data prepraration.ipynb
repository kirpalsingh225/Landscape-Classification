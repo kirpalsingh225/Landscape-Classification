{
 "cells": [
  {
   "cell_type": "code",
   "execution_count": 38,
   "metadata": {
    "execution": {
     "iopub.execute_input": "2023-01-11T13:45:35.457015Z",
     "iopub.status.busy": "2023-01-11T13:45:35.456528Z",
     "iopub.status.idle": "2023-01-11T13:45:35.467264Z",
     "shell.execute_reply": "2023-01-11T13:45:35.466276Z",
     "shell.execute_reply.started": "2023-01-11T13:45:35.456970Z"
    }
   },
   "outputs": [],
   "source": [
    "import os\n",
    "import cv2 as cv\n",
    "import pandas as pd\n",
    "import random\n",
    "import numpy as np\n",
    "from sklearn.preprocessing import LabelEncoder\n",
    "from sklearn.model_selection import train_test_split\n",
    "import keras\n",
    "from keras.models import Sequential\n",
    "from keras.layers import Activation,Dense,Conv2D,MaxPool2D,BatchNormalization,Flatten,Dropout\n",
    "from keras.callbacks import ModelCheckpoint\n",
    "from sklearn.metrics import classification_report,confusion_matrix\n",
    "import matplotlib.pyplot as plt"
   ]
  },
  {
   "cell_type": "code",
   "execution_count": 3,
   "metadata": {
    "execution": {
     "iopub.execute_input": "2023-01-11T13:18:44.255821Z",
     "iopub.status.busy": "2023-01-11T13:18:44.255296Z",
     "iopub.status.idle": "2023-01-11T13:18:44.260990Z",
     "shell.execute_reply": "2023-01-11T13:18:44.259537Z",
     "shell.execute_reply.started": "2023-01-11T13:18:44.255792Z"
    }
   },
   "outputs": [],
   "source": [
    "train = \"/kaggle/input/landscape-classification/intel-image-classification/train\"\n",
    "valid = \"/kaggle/input/landscape-classification/intel-image-classification/validation\""
   ]
  },
  {
   "cell_type": "code",
   "execution_count": 4,
   "metadata": {
    "execution": {
     "iopub.execute_input": "2023-01-11T13:18:44.263436Z",
     "iopub.status.busy": "2023-01-11T13:18:44.262492Z",
     "iopub.status.idle": "2023-01-11T13:18:44.272531Z",
     "shell.execute_reply": "2023-01-11T13:18:44.271575Z",
     "shell.execute_reply.started": "2023-01-11T13:18:44.263400Z"
    }
   },
   "outputs": [],
   "source": [
    "Categories = [\"buildings\",\"forest\",\"glacier\",\"mountain\",\"sea\",\"street\"]"
   ]
  },
  {
   "cell_type": "code",
   "execution_count": 5,
   "metadata": {
    "execution": {
     "iopub.execute_input": "2023-01-11T13:18:48.171387Z",
     "iopub.status.busy": "2023-01-11T13:18:48.170989Z",
     "iopub.status.idle": "2023-01-11T13:19:29.285833Z",
     "shell.execute_reply": "2023-01-11T13:19:29.284793Z",
     "shell.execute_reply.started": "2023-01-11T13:18:48.171352Z"
    }
   },
   "outputs": [],
   "source": [
    "data = []\n",
    "def create_data(path_in):\n",
    "    for categories in Categories:\n",
    "        path = os.path.join(path_in , categories)\n",
    "        class_name = categories\n",
    "        for img in os.listdir(path):\n",
    "            try:\n",
    "                img_array = cv.imread(os.path.join(path,img),cv.IMREAD_GRAYSCALE)\n",
    "                new_array = cv.resize(img_array , (100,100))\n",
    "                data.append([new_array , class_name])\n",
    "            except Exception as e:\n",
    "                pass\n",
    "create_data(train)"
   ]
  },
  {
   "cell_type": "code",
   "execution_count": 6,
   "metadata": {
    "execution": {
     "iopub.execute_input": "2023-01-11T13:19:31.912786Z",
     "iopub.status.busy": "2023-01-11T13:19:31.912396Z",
     "iopub.status.idle": "2023-01-11T13:19:31.918173Z",
     "shell.execute_reply": "2023-01-11T13:19:31.916844Z",
     "shell.execute_reply.started": "2023-01-11T13:19:31.912756Z"
    }
   },
   "outputs": [],
   "source": [
    "train_data = data"
   ]
  },
  {
   "cell_type": "code",
   "execution_count": 7,
   "metadata": {
    "execution": {
     "iopub.execute_input": "2023-01-11T13:19:32.892793Z",
     "iopub.status.busy": "2023-01-11T13:19:32.891972Z",
     "iopub.status.idle": "2023-01-11T13:19:32.903467Z",
     "shell.execute_reply": "2023-01-11T13:19:32.902060Z",
     "shell.execute_reply.started": "2023-01-11T13:19:32.892753Z"
    }
   },
   "outputs": [],
   "source": [
    "random.shuffle(train_data)"
   ]
  },
  {
   "cell_type": "code",
   "execution_count": 8,
   "metadata": {
    "execution": {
     "iopub.execute_input": "2023-01-11T13:19:33.899459Z",
     "iopub.status.busy": "2023-01-11T13:19:33.899060Z",
     "iopub.status.idle": "2023-01-11T13:19:33.912811Z",
     "shell.execute_reply": "2023-01-11T13:19:33.911631Z",
     "shell.execute_reply.started": "2023-01-11T13:19:33.899425Z"
    }
   },
   "outputs": [
    {
     "data": {
      "text/plain": [
       "[[array([[216, 211, 199, ..., 241, 239, 238],\n",
       "         [224, 226, 214, ..., 241, 239, 238],\n",
       "         [229, 232, 228, ..., 242, 239, 237],\n",
       "         ...,\n",
       "         [115, 105,  89, ..., 178, 182, 172],\n",
       "         [ 77,  64,  83, ..., 206, 175, 178],\n",
       "         [103,  95,  84, ..., 188, 163, 175]], dtype=uint8),\n",
       "  'sea'],\n",
       " [array([[ 4,  4, 11, ...,  1,  1,  0],\n",
       "         [21,  6,  7, ...,  0,  0,  0],\n",
       "         [42, 32,  7, ...,  1,  1,  1],\n",
       "         ...,\n",
       "         [34, 35, 32, ..., 38, 34, 26],\n",
       "         [34, 31, 36, ..., 34, 35, 33],\n",
       "         [27, 30, 33, ..., 37, 32, 34]], dtype=uint8),\n",
       "  'street'],\n",
       " [array([[254, 253, 253, ..., 255, 255, 255],\n",
       "         [252, 252, 252, ..., 255, 255, 255],\n",
       "         [252, 252, 252, ..., 255, 255, 255],\n",
       "         ...,\n",
       "         [ 69,  50,  50, ...,  50,  39,  75],\n",
       "         [ 46,  53,  51, ..., 123,  75,  21],\n",
       "         [ 51,  47,  51, ..., 118, 102, 104]], dtype=uint8),\n",
       "  'buildings'],\n",
       " [array([[66, 63, 53, ..., 30, 34, 31],\n",
       "         [53, 61, 56, ..., 33, 37, 29],\n",
       "         [51, 41, 52, ..., 44, 52, 46],\n",
       "         ...,\n",
       "         [28, 32, 32, ..., 22, 21, 20],\n",
       "         [24, 47, 33, ..., 24, 23, 22],\n",
       "         [29, 61, 27, ..., 26, 24, 22]], dtype=uint8),\n",
       "  'forest']]"
      ]
     },
     "execution_count": 8,
     "metadata": {},
     "output_type": "execute_result"
    }
   ],
   "source": [
    "train_data[:4]"
   ]
  },
  {
   "cell_type": "code",
   "execution_count": 9,
   "metadata": {
    "execution": {
     "iopub.execute_input": "2023-01-11T13:19:36.572958Z",
     "iopub.status.busy": "2023-01-11T13:19:36.572095Z",
     "iopub.status.idle": "2023-01-11T13:19:52.625200Z",
     "shell.execute_reply": "2023-01-11T13:19:52.623961Z",
     "shell.execute_reply.started": "2023-01-11T13:19:36.572911Z"
    }
   },
   "outputs": [],
   "source": [
    "data = []\n",
    "def create_data(path_in):\n",
    "    for categories in Categories:\n",
    "        path = os.path.join(path_in , categories)\n",
    "        class_name = categories\n",
    "        for img in os.listdir(path):\n",
    "            try:\n",
    "                img_array = cv.imread(os.path.join(path,img),cv.IMREAD_GRAYSCALE)\n",
    "                new_array = cv.resize(img_array , (100,100))\n",
    "                data.append([new_array , class_name])\n",
    "            except Exception as e:\n",
    "                pass\n",
    "create_data(valid)"
   ]
  },
  {
   "cell_type": "code",
   "execution_count": 10,
   "metadata": {
    "execution": {
     "iopub.execute_input": "2023-01-11T13:20:07.788328Z",
     "iopub.status.busy": "2023-01-11T13:20:07.787915Z",
     "iopub.status.idle": "2023-01-11T13:20:07.793598Z",
     "shell.execute_reply": "2023-01-11T13:20:07.792211Z",
     "shell.execute_reply.started": "2023-01-11T13:20:07.788293Z"
    }
   },
   "outputs": [],
   "source": [
    "valid_data = data"
   ]
  },
  {
   "cell_type": "code",
   "execution_count": 11,
   "metadata": {
    "execution": {
     "iopub.execute_input": "2023-01-11T13:20:10.266316Z",
     "iopub.status.busy": "2023-01-11T13:20:10.265153Z",
     "iopub.status.idle": "2023-01-11T13:20:10.274140Z",
     "shell.execute_reply": "2023-01-11T13:20:10.272815Z",
     "shell.execute_reply.started": "2023-01-11T13:20:10.266268Z"
    }
   },
   "outputs": [],
   "source": [
    "random.shuffle(valid_data)"
   ]
  },
  {
   "cell_type": "code",
   "execution_count": 12,
   "metadata": {
    "execution": {
     "iopub.execute_input": "2023-01-11T13:20:10.857942Z",
     "iopub.status.busy": "2023-01-11T13:20:10.857583Z",
     "iopub.status.idle": "2023-01-11T13:20:10.864207Z",
     "shell.execute_reply": "2023-01-11T13:20:10.863089Z",
     "shell.execute_reply.started": "2023-01-11T13:20:10.857910Z"
    }
   },
   "outputs": [
    {
     "data": {
      "text/plain": [
       "2400"
      ]
     },
     "execution_count": 12,
     "metadata": {},
     "output_type": "execute_result"
    }
   ],
   "source": [
    "len(valid_data)"
   ]
  },
  {
   "cell_type": "code",
   "execution_count": 13,
   "metadata": {
    "execution": {
     "iopub.execute_input": "2023-01-11T13:20:11.395377Z",
     "iopub.status.busy": "2023-01-11T13:20:11.394972Z",
     "iopub.status.idle": "2023-01-11T13:20:11.402620Z",
     "shell.execute_reply": "2023-01-11T13:20:11.401343Z",
     "shell.execute_reply.started": "2023-01-11T13:20:11.395342Z"
    }
   },
   "outputs": [
    {
     "data": {
      "text/plain": [
       "6000"
      ]
     },
     "execution_count": 13,
     "metadata": {},
     "output_type": "execute_result"
    }
   ],
   "source": [
    "len(train_data)"
   ]
  },
  {
   "cell_type": "code",
   "execution_count": 14,
   "metadata": {
    "execution": {
     "iopub.execute_input": "2023-01-11T13:20:13.334925Z",
     "iopub.status.busy": "2023-01-11T13:20:13.334557Z",
     "iopub.status.idle": "2023-01-11T13:20:13.343066Z",
     "shell.execute_reply": "2023-01-11T13:20:13.341956Z",
     "shell.execute_reply.started": "2023-01-11T13:20:13.334893Z"
    }
   },
   "outputs": [],
   "source": [
    "x_train = []\n",
    "y_train = []\n",
    "for features,labels in train_data:\n",
    "    x_train.append(features)\n",
    "    y_train.append(labels)"
   ]
  },
  {
   "cell_type": "code",
   "execution_count": 15,
   "metadata": {
    "execution": {
     "iopub.execute_input": "2023-01-11T13:20:13.622125Z",
     "iopub.status.busy": "2023-01-11T13:20:13.621744Z",
     "iopub.status.idle": "2023-01-11T13:20:13.629334Z",
     "shell.execute_reply": "2023-01-11T13:20:13.627946Z",
     "shell.execute_reply.started": "2023-01-11T13:20:13.622093Z"
    }
   },
   "outputs": [],
   "source": [
    "x_valid = []\n",
    "y_valid = []\n",
    "for features,labels in valid_data:\n",
    "    x_valid.append(features)\n",
    "    y_valid.append(labels)"
   ]
  },
  {
   "cell_type": "code",
   "execution_count": 16,
   "metadata": {
    "execution": {
     "iopub.execute_input": "2023-01-11T13:20:15.538615Z",
     "iopub.status.busy": "2023-01-11T13:20:15.538169Z",
     "iopub.status.idle": "2023-01-11T13:20:15.581753Z",
     "shell.execute_reply": "2023-01-11T13:20:15.580704Z",
     "shell.execute_reply.started": "2023-01-11T13:20:15.538581Z"
    }
   },
   "outputs": [],
   "source": [
    "x_train = np.array(x_train)\n",
    "x_valid = np.array(x_valid)"
   ]
  },
  {
   "cell_type": "code",
   "execution_count": 17,
   "metadata": {
    "execution": {
     "iopub.execute_input": "2023-01-11T13:20:15.843994Z",
     "iopub.status.busy": "2023-01-11T13:20:15.843104Z",
     "iopub.status.idle": "2023-01-11T13:20:15.850026Z",
     "shell.execute_reply": "2023-01-11T13:20:15.849017Z",
     "shell.execute_reply.started": "2023-01-11T13:20:15.843950Z"
    }
   },
   "outputs": [],
   "source": [
    "x_train = x_train.reshape(6000,100,100,1)\n",
    "x_valid = x_valid.reshape(2400,100,100,1)"
   ]
  },
  {
   "cell_type": "code",
   "execution_count": 18,
   "metadata": {
    "execution": {
     "iopub.execute_input": "2023-01-11T13:20:16.468957Z",
     "iopub.status.busy": "2023-01-11T13:20:16.468200Z",
     "iopub.status.idle": "2023-01-11T13:20:16.480727Z",
     "shell.execute_reply": "2023-01-11T13:20:16.479664Z",
     "shell.execute_reply.started": "2023-01-11T13:20:16.468920Z"
    }
   },
   "outputs": [],
   "source": [
    "le = LabelEncoder()\n",
    "y_train = le.fit_transform(y_train)\n",
    "y_valid = le.fit_transform(y_valid)"
   ]
  },
  {
   "cell_type": "code",
   "execution_count": 19,
   "metadata": {
    "execution": {
     "iopub.execute_input": "2023-01-11T13:20:18.044960Z",
     "iopub.status.busy": "2023-01-11T13:20:18.044069Z",
     "iopub.status.idle": "2023-01-11T13:20:18.052522Z",
     "shell.execute_reply": "2023-01-11T13:20:18.051070Z",
     "shell.execute_reply.started": "2023-01-11T13:20:18.044925Z"
    }
   },
   "outputs": [
    {
     "data": {
      "text/plain": [
       "array([4, 5, 0, 1, 4, 0, 0, 3, 0, 4])"
      ]
     },
     "execution_count": 19,
     "metadata": {},
     "output_type": "execute_result"
    }
   ],
   "source": [
    "y_train[:10]"
   ]
  },
  {
   "cell_type": "code",
   "execution_count": 20,
   "metadata": {
    "execution": {
     "iopub.execute_input": "2023-01-11T13:20:18.927266Z",
     "iopub.status.busy": "2023-01-11T13:20:18.926872Z",
     "iopub.status.idle": "2023-01-11T13:20:18.935669Z",
     "shell.execute_reply": "2023-01-11T13:20:18.934519Z",
     "shell.execute_reply.started": "2023-01-11T13:20:18.927216Z"
    }
   },
   "outputs": [
    {
     "data": {
      "text/plain": [
       "array([0, 2, 3, 3, 0, 0, 4, 1, 0, 1])"
      ]
     },
     "execution_count": 20,
     "metadata": {},
     "output_type": "execute_result"
    }
   ],
   "source": [
    "y_valid[:10]"
   ]
  },
  {
   "cell_type": "code",
   "execution_count": 21,
   "metadata": {
    "execution": {
     "iopub.execute_input": "2023-01-11T13:20:21.321734Z",
     "iopub.status.busy": "2023-01-11T13:20:21.321359Z",
     "iopub.status.idle": "2023-01-11T13:20:21.553609Z",
     "shell.execute_reply": "2023-01-11T13:20:21.552448Z",
     "shell.execute_reply.started": "2023-01-11T13:20:21.321705Z"
    }
   },
   "outputs": [],
   "source": [
    "x_train = x_train/255\n",
    "x_valid = x_valid/255"
   ]
  },
  {
   "cell_type": "code",
   "execution_count": null,
   "metadata": {},
   "outputs": [],
   "source": []
  }
 ],
 "metadata": {
  "kernelspec": {
   "display_name": "Python 3 (ipykernel)",
   "language": "python",
   "name": "python3"
  },
  "language_info": {
   "codemirror_mode": {
    "name": "ipython",
    "version": 3
   },
   "file_extension": ".py",
   "mimetype": "text/x-python",
   "name": "python",
   "nbconvert_exporter": "python",
   "pygments_lexer": "ipython3",
   "version": "3.9.12"
  }
 },
 "nbformat": 4,
 "nbformat_minor": 4
}
