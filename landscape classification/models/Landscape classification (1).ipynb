{
 "cells": [
  {
   "cell_type": "code",
   "execution_count": 38,
   "metadata": {
    "execution": {
     "iopub.execute_input": "2023-01-11T13:45:35.457015Z",
     "iopub.status.busy": "2023-01-11T13:45:35.456528Z",
     "iopub.status.idle": "2023-01-11T13:45:35.467264Z",
     "shell.execute_reply": "2023-01-11T13:45:35.466276Z",
     "shell.execute_reply.started": "2023-01-11T13:45:35.456970Z"
    }
   },
   "outputs": [],
   "source": [
    "import os\n",
    "import cv2 as cv\n",
    "import pandas as pd\n",
    "import random\n",
    "import numpy as np\n",
    "from sklearn.preprocessing import LabelEncoder\n",
    "from sklearn.model_selection import train_test_split\n",
    "import keras\n",
    "from keras.models import Sequential\n",
    "from keras.layers import Activation,Dense,Conv2D,MaxPool2D,BatchNormalization,Flatten,Dropout\n",
    "from keras.callbacks import ModelCheckpoint\n",
    "from sklearn.metrics import classification_report,confusion_matrix\n",
    "import matplotlib.pyplot as plt"
   ]
  },
  {
   "cell_type": "code",
   "execution_count": 3,
   "metadata": {
    "execution": {
     "iopub.execute_input": "2023-01-11T13:18:44.255821Z",
     "iopub.status.busy": "2023-01-11T13:18:44.255296Z",
     "iopub.status.idle": "2023-01-11T13:18:44.260990Z",
     "shell.execute_reply": "2023-01-11T13:18:44.259537Z",
     "shell.execute_reply.started": "2023-01-11T13:18:44.255792Z"
    }
   },
   "outputs": [],
   "source": [
    "train = \"/kaggle/input/landscape-classification/intel-image-classification/train\"\n",
    "valid = \"/kaggle/input/landscape-classification/intel-image-classification/validation\""
   ]
  },
  {
   "cell_type": "code",
   "execution_count": 4,
   "metadata": {
    "execution": {
     "iopub.execute_input": "2023-01-11T13:18:44.263436Z",
     "iopub.status.busy": "2023-01-11T13:18:44.262492Z",
     "iopub.status.idle": "2023-01-11T13:18:44.272531Z",
     "shell.execute_reply": "2023-01-11T13:18:44.271575Z",
     "shell.execute_reply.started": "2023-01-11T13:18:44.263400Z"
    }
   },
   "outputs": [],
   "source": [
    "Categories = [\"buildings\",\"forest\",\"glacier\",\"mountain\",\"sea\",\"street\"]"
   ]
  },
  {
   "cell_type": "code",
   "execution_count": 5,
   "metadata": {
    "execution": {
     "iopub.execute_input": "2023-01-11T13:18:48.171387Z",
     "iopub.status.busy": "2023-01-11T13:18:48.170989Z",
     "iopub.status.idle": "2023-01-11T13:19:29.285833Z",
     "shell.execute_reply": "2023-01-11T13:19:29.284793Z",
     "shell.execute_reply.started": "2023-01-11T13:18:48.171352Z"
    }
   },
   "outputs": [],
   "source": [
    "data = []\n",
    "def create_data(path_in):\n",
    "    for categories in Categories:\n",
    "        path = os.path.join(path_in , categories)\n",
    "        class_name = categories\n",
    "        for img in os.listdir(path):\n",
    "            try:\n",
    "                img_array = cv.imread(os.path.join(path,img),cv.IMREAD_GRAYSCALE)\n",
    "                new_array = cv.resize(img_array , (100,100))\n",
    "                data.append([new_array , class_name])\n",
    "            except Exception as e:\n",
    "                pass\n",
    "create_data(train)"
   ]
  },
  {
   "cell_type": "code",
   "execution_count": 6,
   "metadata": {
    "execution": {
     "iopub.execute_input": "2023-01-11T13:19:31.912786Z",
     "iopub.status.busy": "2023-01-11T13:19:31.912396Z",
     "iopub.status.idle": "2023-01-11T13:19:31.918173Z",
     "shell.execute_reply": "2023-01-11T13:19:31.916844Z",
     "shell.execute_reply.started": "2023-01-11T13:19:31.912756Z"
    }
   },
   "outputs": [],
   "source": [
    "train_data = data"
   ]
  },
  {
   "cell_type": "code",
   "execution_count": 7,
   "metadata": {
    "execution": {
     "iopub.execute_input": "2023-01-11T13:19:32.892793Z",
     "iopub.status.busy": "2023-01-11T13:19:32.891972Z",
     "iopub.status.idle": "2023-01-11T13:19:32.903467Z",
     "shell.execute_reply": "2023-01-11T13:19:32.902060Z",
     "shell.execute_reply.started": "2023-01-11T13:19:32.892753Z"
    }
   },
   "outputs": [],
   "source": [
    "random.shuffle(train_data)"
   ]
  },
  {
   "cell_type": "code",
   "execution_count": 8,
   "metadata": {
    "execution": {
     "iopub.execute_input": "2023-01-11T13:19:33.899459Z",
     "iopub.status.busy": "2023-01-11T13:19:33.899060Z",
     "iopub.status.idle": "2023-01-11T13:19:33.912811Z",
     "shell.execute_reply": "2023-01-11T13:19:33.911631Z",
     "shell.execute_reply.started": "2023-01-11T13:19:33.899425Z"
    }
   },
   "outputs": [
    {
     "data": {
      "text/plain": [
       "[[array([[216, 211, 199, ..., 241, 239, 238],\n",
       "         [224, 226, 214, ..., 241, 239, 238],\n",
       "         [229, 232, 228, ..., 242, 239, 237],\n",
       "         ...,\n",
       "         [115, 105,  89, ..., 178, 182, 172],\n",
       "         [ 77,  64,  83, ..., 206, 175, 178],\n",
       "         [103,  95,  84, ..., 188, 163, 175]], dtype=uint8),\n",
       "  'sea'],\n",
       " [array([[ 4,  4, 11, ...,  1,  1,  0],\n",
       "         [21,  6,  7, ...,  0,  0,  0],\n",
       "         [42, 32,  7, ...,  1,  1,  1],\n",
       "         ...,\n",
       "         [34, 35, 32, ..., 38, 34, 26],\n",
       "         [34, 31, 36, ..., 34, 35, 33],\n",
       "         [27, 30, 33, ..., 37, 32, 34]], dtype=uint8),\n",
       "  'street'],\n",
       " [array([[254, 253, 253, ..., 255, 255, 255],\n",
       "         [252, 252, 252, ..., 255, 255, 255],\n",
       "         [252, 252, 252, ..., 255, 255, 255],\n",
       "         ...,\n",
       "         [ 69,  50,  50, ...,  50,  39,  75],\n",
       "         [ 46,  53,  51, ..., 123,  75,  21],\n",
       "         [ 51,  47,  51, ..., 118, 102, 104]], dtype=uint8),\n",
       "  'buildings'],\n",
       " [array([[66, 63, 53, ..., 30, 34, 31],\n",
       "         [53, 61, 56, ..., 33, 37, 29],\n",
       "         [51, 41, 52, ..., 44, 52, 46],\n",
       "         ...,\n",
       "         [28, 32, 32, ..., 22, 21, 20],\n",
       "         [24, 47, 33, ..., 24, 23, 22],\n",
       "         [29, 61, 27, ..., 26, 24, 22]], dtype=uint8),\n",
       "  'forest']]"
      ]
     },
     "execution_count": 8,
     "metadata": {},
     "output_type": "execute_result"
    }
   ],
   "source": [
    "train_data[:4]"
   ]
  },
  {
   "cell_type": "code",
   "execution_count": 9,
   "metadata": {
    "execution": {
     "iopub.execute_input": "2023-01-11T13:19:36.572958Z",
     "iopub.status.busy": "2023-01-11T13:19:36.572095Z",
     "iopub.status.idle": "2023-01-11T13:19:52.625200Z",
     "shell.execute_reply": "2023-01-11T13:19:52.623961Z",
     "shell.execute_reply.started": "2023-01-11T13:19:36.572911Z"
    }
   },
   "outputs": [],
   "source": [
    "data = []\n",
    "def create_data(path_in):\n",
    "    for categories in Categories:\n",
    "        path = os.path.join(path_in , categories)\n",
    "        class_name = categories\n",
    "        for img in os.listdir(path):\n",
    "            try:\n",
    "                img_array = cv.imread(os.path.join(path,img),cv.IMREAD_GRAYSCALE)\n",
    "                new_array = cv.resize(img_array , (100,100))\n",
    "                data.append([new_array , class_name])\n",
    "            except Exception as e:\n",
    "                pass\n",
    "create_data(valid)"
   ]
  },
  {
   "cell_type": "code",
   "execution_count": 10,
   "metadata": {
    "execution": {
     "iopub.execute_input": "2023-01-11T13:20:07.788328Z",
     "iopub.status.busy": "2023-01-11T13:20:07.787915Z",
     "iopub.status.idle": "2023-01-11T13:20:07.793598Z",
     "shell.execute_reply": "2023-01-11T13:20:07.792211Z",
     "shell.execute_reply.started": "2023-01-11T13:20:07.788293Z"
    }
   },
   "outputs": [],
   "source": [
    "valid_data = data"
   ]
  },
  {
   "cell_type": "code",
   "execution_count": 11,
   "metadata": {
    "execution": {
     "iopub.execute_input": "2023-01-11T13:20:10.266316Z",
     "iopub.status.busy": "2023-01-11T13:20:10.265153Z",
     "iopub.status.idle": "2023-01-11T13:20:10.274140Z",
     "shell.execute_reply": "2023-01-11T13:20:10.272815Z",
     "shell.execute_reply.started": "2023-01-11T13:20:10.266268Z"
    }
   },
   "outputs": [],
   "source": [
    "random.shuffle(valid_data)"
   ]
  },
  {
   "cell_type": "code",
   "execution_count": 12,
   "metadata": {
    "execution": {
     "iopub.execute_input": "2023-01-11T13:20:10.857942Z",
     "iopub.status.busy": "2023-01-11T13:20:10.857583Z",
     "iopub.status.idle": "2023-01-11T13:20:10.864207Z",
     "shell.execute_reply": "2023-01-11T13:20:10.863089Z",
     "shell.execute_reply.started": "2023-01-11T13:20:10.857910Z"
    }
   },
   "outputs": [
    {
     "data": {
      "text/plain": [
       "2400"
      ]
     },
     "execution_count": 12,
     "metadata": {},
     "output_type": "execute_result"
    }
   ],
   "source": [
    "len(valid_data)"
   ]
  },
  {
   "cell_type": "code",
   "execution_count": 13,
   "metadata": {
    "execution": {
     "iopub.execute_input": "2023-01-11T13:20:11.395377Z",
     "iopub.status.busy": "2023-01-11T13:20:11.394972Z",
     "iopub.status.idle": "2023-01-11T13:20:11.402620Z",
     "shell.execute_reply": "2023-01-11T13:20:11.401343Z",
     "shell.execute_reply.started": "2023-01-11T13:20:11.395342Z"
    }
   },
   "outputs": [
    {
     "data": {
      "text/plain": [
       "6000"
      ]
     },
     "execution_count": 13,
     "metadata": {},
     "output_type": "execute_result"
    }
   ],
   "source": [
    "len(train_data)"
   ]
  },
  {
   "cell_type": "code",
   "execution_count": 14,
   "metadata": {
    "execution": {
     "iopub.execute_input": "2023-01-11T13:20:13.334925Z",
     "iopub.status.busy": "2023-01-11T13:20:13.334557Z",
     "iopub.status.idle": "2023-01-11T13:20:13.343066Z",
     "shell.execute_reply": "2023-01-11T13:20:13.341956Z",
     "shell.execute_reply.started": "2023-01-11T13:20:13.334893Z"
    }
   },
   "outputs": [],
   "source": [
    "x_train = []\n",
    "y_train = []\n",
    "for features,labels in train_data:\n",
    "    x_train.append(features)\n",
    "    y_train.append(labels)"
   ]
  },
  {
   "cell_type": "code",
   "execution_count": 15,
   "metadata": {
    "execution": {
     "iopub.execute_input": "2023-01-11T13:20:13.622125Z",
     "iopub.status.busy": "2023-01-11T13:20:13.621744Z",
     "iopub.status.idle": "2023-01-11T13:20:13.629334Z",
     "shell.execute_reply": "2023-01-11T13:20:13.627946Z",
     "shell.execute_reply.started": "2023-01-11T13:20:13.622093Z"
    }
   },
   "outputs": [],
   "source": [
    "x_valid = []\n",
    "y_valid = []\n",
    "for features,labels in valid_data:\n",
    "    x_valid.append(features)\n",
    "    y_valid.append(labels)"
   ]
  },
  {
   "cell_type": "code",
   "execution_count": 16,
   "metadata": {
    "execution": {
     "iopub.execute_input": "2023-01-11T13:20:15.538615Z",
     "iopub.status.busy": "2023-01-11T13:20:15.538169Z",
     "iopub.status.idle": "2023-01-11T13:20:15.581753Z",
     "shell.execute_reply": "2023-01-11T13:20:15.580704Z",
     "shell.execute_reply.started": "2023-01-11T13:20:15.538581Z"
    }
   },
   "outputs": [],
   "source": [
    "x_train = np.array(x_train)\n",
    "x_valid = np.array(x_valid)"
   ]
  },
  {
   "cell_type": "code",
   "execution_count": 17,
   "metadata": {
    "execution": {
     "iopub.execute_input": "2023-01-11T13:20:15.843994Z",
     "iopub.status.busy": "2023-01-11T13:20:15.843104Z",
     "iopub.status.idle": "2023-01-11T13:20:15.850026Z",
     "shell.execute_reply": "2023-01-11T13:20:15.849017Z",
     "shell.execute_reply.started": "2023-01-11T13:20:15.843950Z"
    }
   },
   "outputs": [],
   "source": [
    "x_train = x_train.reshape(6000,100,100,1)\n",
    "x_valid = x_valid.reshape(2400,100,100,1)"
   ]
  },
  {
   "cell_type": "code",
   "execution_count": 18,
   "metadata": {
    "execution": {
     "iopub.execute_input": "2023-01-11T13:20:16.468957Z",
     "iopub.status.busy": "2023-01-11T13:20:16.468200Z",
     "iopub.status.idle": "2023-01-11T13:20:16.480727Z",
     "shell.execute_reply": "2023-01-11T13:20:16.479664Z",
     "shell.execute_reply.started": "2023-01-11T13:20:16.468920Z"
    }
   },
   "outputs": [],
   "source": [
    "le = LabelEncoder()\n",
    "y_train = le.fit_transform(y_train)\n",
    "y_valid = le.fit_transform(y_valid)"
   ]
  },
  {
   "cell_type": "code",
   "execution_count": 19,
   "metadata": {
    "execution": {
     "iopub.execute_input": "2023-01-11T13:20:18.044960Z",
     "iopub.status.busy": "2023-01-11T13:20:18.044069Z",
     "iopub.status.idle": "2023-01-11T13:20:18.052522Z",
     "shell.execute_reply": "2023-01-11T13:20:18.051070Z",
     "shell.execute_reply.started": "2023-01-11T13:20:18.044925Z"
    }
   },
   "outputs": [
    {
     "data": {
      "text/plain": [
       "array([4, 5, 0, 1, 4, 0, 0, 3, 0, 4])"
      ]
     },
     "execution_count": 19,
     "metadata": {},
     "output_type": "execute_result"
    }
   ],
   "source": [
    "y_train[:10]"
   ]
  },
  {
   "cell_type": "code",
   "execution_count": 20,
   "metadata": {
    "execution": {
     "iopub.execute_input": "2023-01-11T13:20:18.927266Z",
     "iopub.status.busy": "2023-01-11T13:20:18.926872Z",
     "iopub.status.idle": "2023-01-11T13:20:18.935669Z",
     "shell.execute_reply": "2023-01-11T13:20:18.934519Z",
     "shell.execute_reply.started": "2023-01-11T13:20:18.927216Z"
    }
   },
   "outputs": [
    {
     "data": {
      "text/plain": [
       "array([0, 2, 3, 3, 0, 0, 4, 1, 0, 1])"
      ]
     },
     "execution_count": 20,
     "metadata": {},
     "output_type": "execute_result"
    }
   ],
   "source": [
    "y_valid[:10]"
   ]
  },
  {
   "cell_type": "code",
   "execution_count": 21,
   "metadata": {
    "execution": {
     "iopub.execute_input": "2023-01-11T13:20:21.321734Z",
     "iopub.status.busy": "2023-01-11T13:20:21.321359Z",
     "iopub.status.idle": "2023-01-11T13:20:21.553609Z",
     "shell.execute_reply": "2023-01-11T13:20:21.552448Z",
     "shell.execute_reply.started": "2023-01-11T13:20:21.321705Z"
    }
   },
   "outputs": [],
   "source": [
    "x_train = x_train/255\n",
    "x_valid = x_valid/255"
   ]
  },
  {
   "cell_type": "code",
   "execution_count": 34,
   "metadata": {
    "execution": {
     "iopub.execute_input": "2023-01-11T13:27:24.073418Z",
     "iopub.status.busy": "2023-01-11T13:27:24.072971Z",
     "iopub.status.idle": "2023-01-11T13:27:24.216657Z",
     "shell.execute_reply": "2023-01-11T13:27:24.215657Z",
     "shell.execute_reply.started": "2023-01-11T13:27:24.073382Z"
    }
   },
   "outputs": [],
   "source": [
    "model = Sequential()\n",
    "model.add(Conv2D(100 , (3,3) , input_shape=(100,100,1) , activation=\"relu\"))\n",
    "model.add(MaxPool2D(2,2))\n",
    "model.add(Dropout(0.1))\n",
    "model.add(BatchNormalization())\n",
    "model.add(Conv2D(200 , (3,3) , activation=\"relu\"))\n",
    "model.add(MaxPool2D(2,2))\n",
    "model.add(Dropout(0.2))\n",
    "model.add(BatchNormalization())\n",
    "model.add(Conv2D(300 , (3,3) , activation=\"relu\"))\n",
    "model.add(MaxPool2D(2,2))\n",
    "model.add(Dropout(0.3))\n",
    "model.add(BatchNormalization())\n",
    "model.add(Conv2D(400 , (3,3) , activation=\"relu\"))\n",
    "model.add(MaxPool2D(2,2))\n",
    "model.add(Dropout(0.4))\n",
    "model.add(Flatten())\n",
    "model.add(Dense(170 , activation=\"relu\"))\n",
    "model.add(Dropout(0.5))\n",
    "model.add(Dense(40,activation=\"relu\"))\n",
    "model.add(Dense(6 , activation=\"softmax\"))"
   ]
  },
  {
   "cell_type": "code",
   "execution_count": 35,
   "metadata": {
    "execution": {
     "iopub.execute_input": "2023-01-11T13:27:24.458409Z",
     "iopub.status.busy": "2023-01-11T13:27:24.458048Z",
     "iopub.status.idle": "2023-01-11T13:27:24.468292Z",
     "shell.execute_reply": "2023-01-11T13:27:24.467285Z",
     "shell.execute_reply.started": "2023-01-11T13:27:24.458379Z"
    }
   },
   "outputs": [
    {
     "name": "stdout",
     "output_type": "stream",
     "text": [
      "Model: \"sequential_3\"\n",
      "_________________________________________________________________\n",
      "Layer (type)                 Output Shape              Param #   \n",
      "=================================================================\n",
      "conv2d_12 (Conv2D)           (None, 98, 98, 100)       1000      \n",
      "_________________________________________________________________\n",
      "max_pooling2d_12 (MaxPooling (None, 49, 49, 100)       0         \n",
      "_________________________________________________________________\n",
      "dropout_14 (Dropout)         (None, 49, 49, 100)       0         \n",
      "_________________________________________________________________\n",
      "batch_normalization_12 (Batc (None, 49, 49, 100)       400       \n",
      "_________________________________________________________________\n",
      "conv2d_13 (Conv2D)           (None, 47, 47, 200)       180200    \n",
      "_________________________________________________________________\n",
      "max_pooling2d_13 (MaxPooling (None, 23, 23, 200)       0         \n",
      "_________________________________________________________________\n",
      "dropout_15 (Dropout)         (None, 23, 23, 200)       0         \n",
      "_________________________________________________________________\n",
      "batch_normalization_13 (Batc (None, 23, 23, 200)       800       \n",
      "_________________________________________________________________\n",
      "conv2d_14 (Conv2D)           (None, 21, 21, 300)       540300    \n",
      "_________________________________________________________________\n",
      "max_pooling2d_14 (MaxPooling (None, 10, 10, 300)       0         \n",
      "_________________________________________________________________\n",
      "dropout_16 (Dropout)         (None, 10, 10, 300)       0         \n",
      "_________________________________________________________________\n",
      "batch_normalization_14 (Batc (None, 10, 10, 300)       1200      \n",
      "_________________________________________________________________\n",
      "conv2d_15 (Conv2D)           (None, 8, 8, 400)         1080400   \n",
      "_________________________________________________________________\n",
      "max_pooling2d_15 (MaxPooling (None, 4, 4, 400)         0         \n",
      "_________________________________________________________________\n",
      "dropout_17 (Dropout)         (None, 4, 4, 400)         0         \n",
      "_________________________________________________________________\n",
      "flatten_2 (Flatten)          (None, 6400)              0         \n",
      "_________________________________________________________________\n",
      "dense_6 (Dense)              (None, 170)               1088170   \n",
      "_________________________________________________________________\n",
      "dropout_18 (Dropout)         (None, 170)               0         \n",
      "_________________________________________________________________\n",
      "dense_7 (Dense)              (None, 40)                6840      \n",
      "_________________________________________________________________\n",
      "dense_8 (Dense)              (None, 6)                 246       \n",
      "=================================================================\n",
      "Total params: 2,899,556\n",
      "Trainable params: 2,898,356\n",
      "Non-trainable params: 1,200\n",
      "_________________________________________________________________\n"
     ]
    }
   ],
   "source": [
    "model.summary()"
   ]
  },
  {
   "cell_type": "code",
   "execution_count": 36,
   "metadata": {
    "execution": {
     "iopub.execute_input": "2023-01-11T13:27:34.210330Z",
     "iopub.status.busy": "2023-01-11T13:27:34.209256Z",
     "iopub.status.idle": "2023-01-11T13:27:34.221581Z",
     "shell.execute_reply": "2023-01-11T13:27:34.220570Z",
     "shell.execute_reply.started": "2023-01-11T13:27:34.210284Z"
    }
   },
   "outputs": [],
   "source": [
    "model.compile(optimizer=\"adam\",loss=\"sparse_categorical_crossentropy\",metrics=['accuracy'])"
   ]
  },
  {
   "cell_type": "code",
   "execution_count": 37,
   "metadata": {
    "execution": {
     "iopub.execute_input": "2023-01-11T13:27:46.738282Z",
     "iopub.status.busy": "2023-01-11T13:27:46.737852Z",
     "iopub.status.idle": "2023-01-11T13:43:17.709110Z",
     "shell.execute_reply": "2023-01-11T13:43:17.708088Z",
     "shell.execute_reply.started": "2023-01-11T13:27:46.738219Z"
    }
   },
   "outputs": [
    {
     "name": "stdout",
     "output_type": "stream",
     "text": [
      "Epoch 1/100\n",
      "50/50 [==============================] - 13s 190ms/step - loss: 1.8494 - accuracy: 0.3335 - val_loss: 1.8184 - val_accuracy: 0.1667\n",
      "Epoch 2/100\n",
      "50/50 [==============================] - 9s 187ms/step - loss: 1.3739 - accuracy: 0.4462 - val_loss: 1.9524 - val_accuracy: 0.1663\n",
      "Epoch 3/100\n",
      "50/50 [==============================] - 10s 195ms/step - loss: 1.3129 - accuracy: 0.4567 - val_loss: 2.4908 - val_accuracy: 0.1667\n",
      "Epoch 4/100\n",
      "50/50 [==============================] - 9s 188ms/step - loss: 1.1861 - accuracy: 0.4977 - val_loss: 1.5840 - val_accuracy: 0.2696\n",
      "Epoch 5/100\n",
      "50/50 [==============================] - 10s 194ms/step - loss: 1.0907 - accuracy: 0.5533 - val_loss: 1.5967 - val_accuracy: 0.3167\n",
      "Epoch 6/100\n",
      "50/50 [==============================] - 10s 192ms/step - loss: 1.0261 - accuracy: 0.5847 - val_loss: 1.9590 - val_accuracy: 0.1671\n",
      "Epoch 7/100\n",
      "50/50 [==============================] - 9s 183ms/step - loss: 1.0015 - accuracy: 0.6035 - val_loss: 3.2169 - val_accuracy: 0.1675\n",
      "Epoch 8/100\n",
      "50/50 [==============================] - 9s 190ms/step - loss: 0.9455 - accuracy: 0.6217 - val_loss: 3.3819 - val_accuracy: 0.1667\n",
      "Epoch 9/100\n",
      "50/50 [==============================] - 9s 182ms/step - loss: 0.9392 - accuracy: 0.6257 - val_loss: 2.5079 - val_accuracy: 0.1754\n",
      "Epoch 10/100\n",
      "50/50 [==============================] - 9s 182ms/step - loss: 0.8857 - accuracy: 0.6442 - val_loss: 2.0248 - val_accuracy: 0.3221\n",
      "Epoch 11/100\n",
      "50/50 [==============================] - 9s 182ms/step - loss: 0.8515 - accuracy: 0.6510 - val_loss: 1.6166 - val_accuracy: 0.3600\n",
      "Epoch 12/100\n",
      "50/50 [==============================] - 10s 191ms/step - loss: 0.8456 - accuracy: 0.6533 - val_loss: 1.7561 - val_accuracy: 0.3733\n",
      "Epoch 13/100\n",
      "50/50 [==============================] - 10s 191ms/step - loss: 0.7947 - accuracy: 0.6715 - val_loss: 1.1396 - val_accuracy: 0.5113\n",
      "Epoch 14/100\n",
      "50/50 [==============================] - 10s 191ms/step - loss: 0.8074 - accuracy: 0.6717 - val_loss: 1.3910 - val_accuracy: 0.4796\n",
      "Epoch 15/100\n",
      "50/50 [==============================] - 9s 183ms/step - loss: 0.7683 - accuracy: 0.6972 - val_loss: 0.9097 - val_accuracy: 0.6525\n",
      "Epoch 16/100\n",
      "50/50 [==============================] - 9s 183ms/step - loss: 0.7735 - accuracy: 0.6923 - val_loss: 1.3311 - val_accuracy: 0.4888\n",
      "Epoch 17/100\n",
      "50/50 [==============================] - 9s 190ms/step - loss: 0.7367 - accuracy: 0.7037 - val_loss: 0.9644 - val_accuracy: 0.6604\n",
      "Epoch 18/100\n",
      "50/50 [==============================] - 9s 190ms/step - loss: 0.7093 - accuracy: 0.7128 - val_loss: 0.9444 - val_accuracy: 0.6862\n",
      "Epoch 19/100\n",
      "50/50 [==============================] - 10s 191ms/step - loss: 0.6864 - accuracy: 0.7275 - val_loss: 2.7929 - val_accuracy: 0.4250\n",
      "Epoch 20/100\n",
      "50/50 [==============================] - 9s 190ms/step - loss: 0.6548 - accuracy: 0.7278 - val_loss: 0.6952 - val_accuracy: 0.7592\n",
      "Epoch 21/100\n",
      "50/50 [==============================] - 10s 191ms/step - loss: 0.6297 - accuracy: 0.7415 - val_loss: 0.8370 - val_accuracy: 0.7167\n",
      "Epoch 22/100\n",
      "50/50 [==============================] - 9s 190ms/step - loss: 0.6041 - accuracy: 0.7513 - val_loss: 0.7181 - val_accuracy: 0.7467\n",
      "Epoch 23/100\n",
      "50/50 [==============================] - 9s 181ms/step - loss: 0.6283 - accuracy: 0.7453 - val_loss: 0.7463 - val_accuracy: 0.7250\n",
      "Epoch 24/100\n",
      "50/50 [==============================] - 9s 190ms/step - loss: 0.5806 - accuracy: 0.7743 - val_loss: 0.9011 - val_accuracy: 0.7283\n",
      "Epoch 25/100\n",
      "50/50 [==============================] - 9s 182ms/step - loss: 0.5893 - accuracy: 0.7610 - val_loss: 1.5168 - val_accuracy: 0.4867\n",
      "Epoch 26/100\n",
      "50/50 [==============================] - 9s 190ms/step - loss: 0.5331 - accuracy: 0.7825 - val_loss: 0.7653 - val_accuracy: 0.7054\n",
      "Epoch 27/100\n",
      "50/50 [==============================] - 9s 182ms/step - loss: 0.5269 - accuracy: 0.7847 - val_loss: 1.0174 - val_accuracy: 0.6737\n",
      "Epoch 28/100\n",
      "50/50 [==============================] - 9s 181ms/step - loss: 0.5028 - accuracy: 0.7987 - val_loss: 0.6366 - val_accuracy: 0.7788\n",
      "Epoch 29/100\n",
      "50/50 [==============================] - 9s 182ms/step - loss: 0.4880 - accuracy: 0.8148 - val_loss: 0.8367 - val_accuracy: 0.7063\n",
      "Epoch 30/100\n",
      "50/50 [==============================] - 9s 190ms/step - loss: 0.4621 - accuracy: 0.8183 - val_loss: 0.6867 - val_accuracy: 0.7408\n",
      "Epoch 31/100\n",
      "50/50 [==============================] - 9s 191ms/step - loss: 0.4615 - accuracy: 0.8178 - val_loss: 0.6592 - val_accuracy: 0.7462\n",
      "Epoch 32/100\n",
      "50/50 [==============================] - 9s 189ms/step - loss: 0.4489 - accuracy: 0.8245 - val_loss: 0.5906 - val_accuracy: 0.8071\n",
      "Epoch 33/100\n",
      "50/50 [==============================] - 9s 190ms/step - loss: 0.4199 - accuracy: 0.8415 - val_loss: 0.5620 - val_accuracy: 0.8058\n",
      "Epoch 34/100\n",
      "50/50 [==============================] - 9s 190ms/step - loss: 0.4294 - accuracy: 0.8345 - val_loss: 0.9865 - val_accuracy: 0.6654\n",
      "Epoch 35/100\n",
      "50/50 [==============================] - 9s 182ms/step - loss: 0.3710 - accuracy: 0.8602 - val_loss: 0.7114 - val_accuracy: 0.7946\n",
      "Epoch 36/100\n",
      "50/50 [==============================] - 9s 182ms/step - loss: 0.3898 - accuracy: 0.8525 - val_loss: 1.0224 - val_accuracy: 0.6467\n",
      "Epoch 37/100\n",
      "50/50 [==============================] - 9s 181ms/step - loss: 0.3588 - accuracy: 0.8672 - val_loss: 0.8647 - val_accuracy: 0.7442\n",
      "Epoch 38/100\n",
      "50/50 [==============================] - 9s 181ms/step - loss: 0.3431 - accuracy: 0.8673 - val_loss: 3.5387 - val_accuracy: 0.5267\n",
      "Epoch 39/100\n",
      "50/50 [==============================] - 9s 190ms/step - loss: 0.3349 - accuracy: 0.8718 - val_loss: 0.9744 - val_accuracy: 0.7113\n",
      "Epoch 40/100\n",
      "50/50 [==============================] - 9s 182ms/step - loss: 0.3339 - accuracy: 0.8708 - val_loss: 0.7234 - val_accuracy: 0.7425\n",
      "Epoch 41/100\n",
      "50/50 [==============================] - 9s 189ms/step - loss: 0.3148 - accuracy: 0.8798 - val_loss: 1.3689 - val_accuracy: 0.6783\n",
      "Epoch 42/100\n",
      "50/50 [==============================] - 9s 189ms/step - loss: 0.3366 - accuracy: 0.8727 - val_loss: 0.7663 - val_accuracy: 0.7767\n",
      "Epoch 43/100\n",
      "50/50 [==============================] - 9s 181ms/step - loss: 0.3053 - accuracy: 0.8855 - val_loss: 0.5742 - val_accuracy: 0.8079\n",
      "Epoch 44/100\n",
      "50/50 [==============================] - 9s 189ms/step - loss: 0.2917 - accuracy: 0.8902 - val_loss: 1.0731 - val_accuracy: 0.6963\n",
      "Epoch 45/100\n",
      "50/50 [==============================] - 9s 190ms/step - loss: 0.2672 - accuracy: 0.8967 - val_loss: 0.7323 - val_accuracy: 0.7475\n",
      "Epoch 46/100\n",
      "50/50 [==============================] - 9s 182ms/step - loss: 0.2530 - accuracy: 0.9020 - val_loss: 0.8092 - val_accuracy: 0.7533\n",
      "Epoch 47/100\n",
      "50/50 [==============================] - 9s 181ms/step - loss: 0.2515 - accuracy: 0.9040 - val_loss: 1.4063 - val_accuracy: 0.6571\n",
      "Epoch 48/100\n",
      "50/50 [==============================] - 9s 181ms/step - loss: 0.2816 - accuracy: 0.9000 - val_loss: 0.8067 - val_accuracy: 0.7704\n",
      "Epoch 49/100\n",
      "50/50 [==============================] - 9s 181ms/step - loss: 0.2538 - accuracy: 0.9065 - val_loss: 0.6658 - val_accuracy: 0.7725\n",
      "Epoch 50/100\n",
      "50/50 [==============================] - 9s 181ms/step - loss: 0.2624 - accuracy: 0.9095 - val_loss: 0.9010 - val_accuracy: 0.7358\n",
      "Epoch 51/100\n",
      "50/50 [==============================] - 9s 181ms/step - loss: 0.2107 - accuracy: 0.9220 - val_loss: 0.5897 - val_accuracy: 0.8242\n",
      "Epoch 52/100\n",
      "50/50 [==============================] - 9s 182ms/step - loss: 0.2033 - accuracy: 0.9300 - val_loss: 0.7252 - val_accuracy: 0.7692\n",
      "Epoch 53/100\n",
      "50/50 [==============================] - 9s 182ms/step - loss: 0.2336 - accuracy: 0.9170 - val_loss: 1.0289 - val_accuracy: 0.6608\n",
      "Epoch 54/100\n",
      "50/50 [==============================] - 9s 181ms/step - loss: 0.1995 - accuracy: 0.9313 - val_loss: 0.7723 - val_accuracy: 0.7704\n",
      "Epoch 55/100\n",
      "50/50 [==============================] - 9s 181ms/step - loss: 0.2054 - accuracy: 0.9323 - val_loss: 2.2548 - val_accuracy: 0.6546\n",
      "Epoch 56/100\n",
      "50/50 [==============================] - 9s 182ms/step - loss: 0.1740 - accuracy: 0.9357 - val_loss: 0.9501 - val_accuracy: 0.7638\n",
      "Epoch 57/100\n",
      "50/50 [==============================] - 9s 189ms/step - loss: 0.1689 - accuracy: 0.9393 - val_loss: 0.9204 - val_accuracy: 0.7675\n",
      "Epoch 58/100\n",
      "50/50 [==============================] - 9s 181ms/step - loss: 0.1719 - accuracy: 0.9408 - val_loss: 0.7777 - val_accuracy: 0.7708\n",
      "Epoch 59/100\n",
      "50/50 [==============================] - 9s 181ms/step - loss: 0.1601 - accuracy: 0.9455 - val_loss: 0.6323 - val_accuracy: 0.8233\n",
      "Epoch 60/100\n",
      "50/50 [==============================] - 9s 189ms/step - loss: 0.1625 - accuracy: 0.9462 - val_loss: 0.7000 - val_accuracy: 0.7937\n",
      "Epoch 61/100\n",
      "50/50 [==============================] - 9s 181ms/step - loss: 0.1320 - accuracy: 0.9510 - val_loss: 0.7567 - val_accuracy: 0.7871\n",
      "Epoch 62/100\n",
      "50/50 [==============================] - 9s 181ms/step - loss: 0.1417 - accuracy: 0.9485 - val_loss: 0.8486 - val_accuracy: 0.7650\n",
      "Epoch 63/100\n",
      "50/50 [==============================] - 9s 189ms/step - loss: 0.1496 - accuracy: 0.9472 - val_loss: 1.4488 - val_accuracy: 0.6812\n",
      "Epoch 64/100\n",
      "50/50 [==============================] - 9s 189ms/step - loss: 0.1325 - accuracy: 0.9538 - val_loss: 0.9214 - val_accuracy: 0.7412\n",
      "Epoch 65/100\n",
      "50/50 [==============================] - 9s 189ms/step - loss: 0.1562 - accuracy: 0.9440 - val_loss: 0.6317 - val_accuracy: 0.7992\n",
      "Epoch 66/100\n",
      "50/50 [==============================] - 9s 190ms/step - loss: 0.1412 - accuracy: 0.9505 - val_loss: 0.9873 - val_accuracy: 0.7408\n",
      "Epoch 67/100\n",
      "50/50 [==============================] - 9s 189ms/step - loss: 0.1477 - accuracy: 0.9543 - val_loss: 0.6184 - val_accuracy: 0.8000\n",
      "Epoch 68/100\n",
      "50/50 [==============================] - 9s 181ms/step - loss: 0.1318 - accuracy: 0.9553 - val_loss: 0.9317 - val_accuracy: 0.7513\n",
      "Epoch 69/100\n",
      "50/50 [==============================] - 9s 189ms/step - loss: 0.1162 - accuracy: 0.9588 - val_loss: 0.6637 - val_accuracy: 0.8258\n",
      "Epoch 70/100\n",
      "50/50 [==============================] - 9s 182ms/step - loss: 0.1091 - accuracy: 0.9568 - val_loss: 1.1664 - val_accuracy: 0.7021\n",
      "Epoch 71/100\n",
      "50/50 [==============================] - 9s 189ms/step - loss: 0.1153 - accuracy: 0.9602 - val_loss: 0.8908 - val_accuracy: 0.7733\n",
      "Epoch 72/100\n",
      "50/50 [==============================] - 9s 189ms/step - loss: 0.1320 - accuracy: 0.9540 - val_loss: 0.9953 - val_accuracy: 0.7354\n",
      "Epoch 73/100\n",
      "50/50 [==============================] - 9s 182ms/step - loss: 0.1154 - accuracy: 0.9617 - val_loss: 0.7176 - val_accuracy: 0.8008\n",
      "Epoch 74/100\n",
      "50/50 [==============================] - 9s 181ms/step - loss: 0.1189 - accuracy: 0.9570 - val_loss: 2.7340 - val_accuracy: 0.5462\n",
      "Epoch 75/100\n",
      "50/50 [==============================] - 9s 189ms/step - loss: 0.1240 - accuracy: 0.9542 - val_loss: 1.1045 - val_accuracy: 0.7179\n",
      "Epoch 76/100\n",
      "50/50 [==============================] - 9s 182ms/step - loss: 0.1188 - accuracy: 0.9555 - val_loss: 1.1726 - val_accuracy: 0.7333\n",
      "Epoch 77/100\n",
      "50/50 [==============================] - 9s 181ms/step - loss: 0.1381 - accuracy: 0.9582 - val_loss: 0.8588 - val_accuracy: 0.7708\n",
      "Epoch 78/100\n",
      "50/50 [==============================] - 9s 181ms/step - loss: 0.1200 - accuracy: 0.9550 - val_loss: 2.0357 - val_accuracy: 0.6454\n",
      "Epoch 79/100\n",
      "50/50 [==============================] - 9s 189ms/step - loss: 0.1067 - accuracy: 0.9612 - val_loss: 0.7702 - val_accuracy: 0.8121\n",
      "Epoch 80/100\n",
      "50/50 [==============================] - 9s 182ms/step - loss: 0.1017 - accuracy: 0.9642 - val_loss: 1.2830 - val_accuracy: 0.6975\n",
      "Epoch 81/100\n",
      "50/50 [==============================] - 9s 181ms/step - loss: 0.1034 - accuracy: 0.9622 - val_loss: 0.8454 - val_accuracy: 0.7979\n",
      "Epoch 82/100\n",
      "50/50 [==============================] - 9s 181ms/step - loss: 0.0998 - accuracy: 0.9660 - val_loss: 0.6457 - val_accuracy: 0.8104\n",
      "Epoch 83/100\n",
      "50/50 [==============================] - 9s 189ms/step - loss: 0.1005 - accuracy: 0.9677 - val_loss: 0.8870 - val_accuracy: 0.7887\n",
      "Epoch 84/100\n",
      "50/50 [==============================] - 9s 181ms/step - loss: 0.0862 - accuracy: 0.9717 - val_loss: 0.8423 - val_accuracy: 0.7663\n",
      "Epoch 85/100\n",
      "50/50 [==============================] - 9s 181ms/step - loss: 0.1103 - accuracy: 0.9583 - val_loss: 1.0192 - val_accuracy: 0.7487\n",
      "Epoch 86/100\n",
      "50/50 [==============================] - 9s 189ms/step - loss: 0.1038 - accuracy: 0.9602 - val_loss: 0.7648 - val_accuracy: 0.7987\n",
      "Epoch 87/100\n",
      "50/50 [==============================] - 9s 190ms/step - loss: 0.0946 - accuracy: 0.9693 - val_loss: 4.2073 - val_accuracy: 0.5108\n",
      "Epoch 88/100\n",
      "50/50 [==============================] - 9s 189ms/step - loss: 0.1075 - accuracy: 0.9618 - val_loss: 1.1719 - val_accuracy: 0.7104\n",
      "Epoch 89/100\n",
      "50/50 [==============================] - 9s 189ms/step - loss: 0.1099 - accuracy: 0.9647 - val_loss: 0.8027 - val_accuracy: 0.8112\n",
      "Epoch 90/100\n",
      "50/50 [==============================] - 9s 189ms/step - loss: 0.0976 - accuracy: 0.9650 - val_loss: 0.9947 - val_accuracy: 0.7667\n",
      "Epoch 91/100\n",
      "50/50 [==============================] - 9s 189ms/step - loss: 0.0890 - accuracy: 0.9692 - val_loss: 0.6876 - val_accuracy: 0.8142\n",
      "Epoch 92/100\n",
      "50/50 [==============================] - 9s 181ms/step - loss: 0.0999 - accuracy: 0.9653 - val_loss: 0.7806 - val_accuracy: 0.7829\n",
      "Epoch 93/100\n",
      "50/50 [==============================] - 9s 181ms/step - loss: 0.0818 - accuracy: 0.9738 - val_loss: 1.6889 - val_accuracy: 0.6600\n",
      "Epoch 94/100\n",
      "50/50 [==============================] - 9s 181ms/step - loss: 0.0955 - accuracy: 0.9658 - val_loss: 1.0439 - val_accuracy: 0.7658\n",
      "Epoch 95/100\n",
      "50/50 [==============================] - 9s 189ms/step - loss: 0.0724 - accuracy: 0.9725 - val_loss: 0.7435 - val_accuracy: 0.8104\n",
      "Epoch 96/100\n",
      "50/50 [==============================] - 9s 181ms/step - loss: 0.0774 - accuracy: 0.9742 - val_loss: 0.7393 - val_accuracy: 0.8062\n",
      "Epoch 97/100\n",
      "50/50 [==============================] - 9s 181ms/step - loss: 0.0921 - accuracy: 0.9688 - val_loss: 1.3319 - val_accuracy: 0.6442\n",
      "Epoch 98/100\n",
      "50/50 [==============================] - 9s 189ms/step - loss: 0.0915 - accuracy: 0.9698 - val_loss: 1.8896 - val_accuracy: 0.6283\n",
      "Epoch 99/100\n",
      "50/50 [==============================] - 9s 189ms/step - loss: 0.0701 - accuracy: 0.9747 - val_loss: 1.0956 - val_accuracy: 0.7462\n",
      "Epoch 100/100\n",
      "50/50 [==============================] - 9s 182ms/step - loss: 0.0723 - accuracy: 0.9750 - val_loss: 0.9491 - val_accuracy: 0.7600\n"
     ]
    }
   ],
   "source": [
    "history = model.fit(x_train,y_train,validation_data=(x_valid,y_valid),batch_size=120,epochs=100)"
   ]
  },
  {
   "cell_type": "code",
   "execution_count": 39,
   "metadata": {
    "execution": {
     "iopub.execute_input": "2023-01-11T13:46:21.051521Z",
     "iopub.status.busy": "2023-01-11T13:46:21.051049Z",
     "iopub.status.idle": "2023-01-11T13:46:21.342903Z",
     "shell.execute_reply": "2023-01-11T13:46:21.341930Z",
     "shell.execute_reply.started": "2023-01-11T13:46:21.051484Z"
    }
   },
   "outputs": [
    {
     "data": {
      "text/plain": [
       "<matplotlib.legend.Legend at 0x7ffa3d7d5210>"
      ]
     },
     "execution_count": 39,
     "metadata": {},
     "output_type": "execute_result"
    },
    {
     "data": {
      "image/png": "[encoded data removed]",
      "text/plain": [
       "<Figure size 432x288 with 1 Axes>"
      ]
     },
     "metadata": {
      "needs_background": "light"
     },
     "output_type": "display_data"
    }
   ],
   "source": [
    "plt.plot(history.history[\"loss\"])\n",
    "plt.plot(history.history[\"val_loss\"])\n",
    "plt.xlabel(\"epochs\")\n",
    "plt.ylabel(\"loss\")\n",
    "plt.legend([\"train\",\"valid\"])"
   ]
  },
  {
   "cell_type": "code",
   "execution_count": null,
   "metadata": {},
   "outputs": [],
   "source": []
  }
 ],
 "metadata": {
  "kernelspec": {
   "display_name": "Python 3 (ipykernel)",
   "language": "python",
   "name": "python3"
  },
  "language_info": {
   "codemirror_mode": {
    "name": "ipython",
    "version": 3
   },
   "file_extension": ".py",
   "mimetype": "text/x-python",
   "name": "python",
   "nbconvert_exporter": "python",
   "pygments_lexer": "ipython3",
   "version": "3.9.12"
  }
 },
 "nbformat": 4,
 "nbformat_minor": 4
}
